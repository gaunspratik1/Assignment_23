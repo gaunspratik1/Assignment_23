{
 "cells": [
  {
   "cell_type": "markdown",
   "id": "ea9f57b5",
   "metadata": {},
   "source": [
    "1. What is the result of the code, and why?\n",
    ">>> def func(a, b=6, c=8):\n",
    "print(a, b, c)\n",
    ">>> func(1, 2)"
   ]
  },
  {
   "cell_type": "code",
   "execution_count": 4,
   "id": "ff30f193",
   "metadata": {},
   "outputs": [
    {
     "name": "stdout",
     "output_type": "stream",
     "text": [
      "1 2 8\n"
     ]
    }
   ],
   "source": [
    "def func(a, b=6, c=8):\n",
    "    print(a, b, c)\n",
    "func(1,2)"
   ]
  },
  {
   "cell_type": "markdown",
   "id": "3817282b",
   "metadata": {},
   "source": [
    "It will give the above answer. Its because b and c are already predefined in the function, if we pass a number then it will take the new value."
   ]
  },
  {
   "cell_type": "markdown",
   "id": "0e4a7148",
   "metadata": {},
   "source": [
    "2. What is the result of this code, and why?\n",
    ">>> def func(a, b, c=5):\n",
    "print(a, b, c)\n",
    ">>> func(1, c=3, b=2)\n"
   ]
  },
  {
   "cell_type": "code",
   "execution_count": 6,
   "id": "164b0333",
   "metadata": {},
   "outputs": [
    {
     "name": "stdout",
     "output_type": "stream",
     "text": [
      "1 2 3\n"
     ]
    }
   ],
   "source": [
    "def func(a, b, c=5):\n",
    "    print(a, b, c)\n",
    "func(1, c=3, b=2)"
   ]
  },
  {
   "cell_type": "markdown",
   "id": "7761d4b3",
   "metadata": {},
   "source": [
    "It will give the above answer. Its because while calling function and passing values, the order doesnt matter if we are writing the variable name with the values. \n"
   ]
  },
  {
   "cell_type": "markdown",
   "id": "bd88dd54",
   "metadata": {},
   "source": [
    "3. How about this code: what is its result, and why?\n",
    ">>> def func(a, *pargs):\n",
    "print(a, pargs)\n",
    ">>> func(1, 2, 3)"
   ]
  },
  {
   "cell_type": "code",
   "execution_count": 7,
   "id": "155bbdf6",
   "metadata": {},
   "outputs": [
    {
     "name": "stdout",
     "output_type": "stream",
     "text": [
      "1 (2, 3)\n"
     ]
    }
   ],
   "source": [
    "def func(a, *pargs):\n",
    "    print(a, pargs)\n",
    "func(1, 2, 3)"
   ]
  },
  {
   "cell_type": "markdown",
   "id": "607a7761",
   "metadata": {},
   "source": [
    "The function func is defined with the parameters a and *pargs. The *pargs syntax allows for any number of additional positional arguments to be passed to the function. 1 will go to a and 2 &3 will be sent as tuples.\n"
   ]
  },
  {
   "cell_type": "markdown",
   "id": "7a86f9e6",
   "metadata": {},
   "source": [
    "4. What does this code print, and why?\n",
    ">>> def func(a, **kargs):\n",
    "print(a, kargs)\n",
    ">>> func(a=1, c=3, b=2)"
   ]
  },
  {
   "cell_type": "code",
   "execution_count": 8,
   "id": "48e7707e",
   "metadata": {},
   "outputs": [
    {
     "name": "stdout",
     "output_type": "stream",
     "text": [
      "1 {'c': 3, 'b': 2}\n"
     ]
    }
   ],
   "source": [
    "def func(a, **kargs):\n",
    "    print(a, kargs)\n",
    "func(a=1, c=3, b=2)"
   ]
  },
  {
   "cell_type": "markdown",
   "id": "35b8269a",
   "metadata": {},
   "source": [
    "The function func is defined with the parameter a and **kargs. The **kargs syntax allows for any number of additional keyword arguments to be passed to the function.\n",
    "When the function is called with func(a=1, c=3, b=2), the value 1 is assigned to the a parameter, and the keyword arguments c=3 and b=2 are collected into the kargs parameter as a dictionary."
   ]
  },
  {
   "cell_type": "markdown",
   "id": "c76589b2",
   "metadata": {},
   "source": [
    "5. What gets printed by this, and explain?\n",
    ">>> def func(a, b, c=8, d=5): \n",
    "print(a, b, c, d)\n",
    ">>> func(1, *(5, 6))"
   ]
  },
  {
   "cell_type": "code",
   "execution_count": 9,
   "id": "b48df6b7",
   "metadata": {},
   "outputs": [
    {
     "name": "stdout",
     "output_type": "stream",
     "text": [
      "1 5 6 5\n"
     ]
    }
   ],
   "source": [
    "def func(a, b, c=8, d=5): \n",
    "    print(a, b, c, d)\n",
    "func(1, *(5, 6))"
   ]
  },
  {
   "cell_type": "markdown",
   "id": "4913933d",
   "metadata": {},
   "source": [
    "The func function you provided has four parameters: a, b, c, and d. The c and d parameters have default values of 8 and 5 respectively. The *(5, 6) syntax in the function call is used to unpack the tuple (5, 6) into separate arguments."
   ]
  },
  {
   "cell_type": "markdown",
   "id": "155131c5",
   "metadata": {},
   "source": [
    "6. what is the result of this, and explain?\n",
    ">>> def func(a, b, c): a = 2; b[0] = 'x'; c['a'] = 'y'\n",
    ">>> l=1; m=[1]; n={'a':0}\n",
    ">>> func(l, m, n)\n",
    ">>> l, m, n"
   ]
  },
  {
   "cell_type": "code",
   "execution_count": 10,
   "id": "a134e052",
   "metadata": {},
   "outputs": [
    {
     "data": {
      "text/plain": [
       "(1, ['x'], {'a': 'y'})"
      ]
     },
     "execution_count": 10,
     "metadata": {},
     "output_type": "execute_result"
    }
   ],
   "source": [
    "def func(a, b, c): a = 2; b[0] = 'x'; c['a'] = 'y'\n",
    "l=1; m=[1]; n={'a':0}\n",
    "func(l, m, n)\n",
    "l, m, n"
   ]
  },
  {
   "cell_type": "markdown",
   "id": "7e2eae96",
   "metadata": {},
   "source": [
    "The variable l is assigned the value 1, the variable m is assigned a list [1], and the variable n is assigned a dictionary {'a': 0}.\n",
    "The function func is called with the values of l, m, and n as arguments.\n",
    "Inside the function, a is reassigned to 2, which doesn't affect the value of l since integers are immutable.\n",
    "The value at index 0 of list b is modified to 'x', resulting in m being modified to ['x'].\n",
    "The value associated with the key 'a' in dictionary c is modified to 'y', resulting in n being modified to {'a': 'y'}.\n",
    "After calling func, the values of l, m, and n are printed, showing that l remains 1, m is modified to ['x'], and n is modified to {'a': 'y'}."
   ]
  }
 ],
 "metadata": {
  "kernelspec": {
   "display_name": "Python 3 (ipykernel)",
   "language": "python",
   "name": "python3"
  },
  "language_info": {
   "codemirror_mode": {
    "name": "ipython",
    "version": 3
   },
   "file_extension": ".py",
   "mimetype": "text/x-python",
   "name": "python",
   "nbconvert_exporter": "python",
   "pygments_lexer": "ipython3",
   "version": "3.9.12"
  }
 },
 "nbformat": 4,
 "nbformat_minor": 5
}
